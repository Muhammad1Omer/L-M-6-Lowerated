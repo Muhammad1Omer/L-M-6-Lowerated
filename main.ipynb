{
 "cells": [
  {
   "cell_type": "code",
   "execution_count": null,
   "metadata": {},
   "outputs": [],
   "source": [
    "from lowerated.rate.entity import Entity\n",
    "\n",
    "some_movie_reviews = [\n",
    "    \"bad movie!\", \"worse than other movies.\", \"bad.\",\n",
    "    \"best movie\", \"very good movie\", \"the cinematography was insane\",\n",
    "    \"story was so beautiful\", \"the emotional element was missing but cinematography was great\",\n",
    "    \"didn't feel a thing watching this\",\n",
    "    \"oooof, eliot and jessie were so good. the casting was the best\",\n",
    "    \"yo who designed the set, that was really good\",\n",
    "    \"such stories are rare to find\"\n",
    "]\n",
    "\n",
    "# Create entity object (loads the whole pipeline)\n",
    "entity = Entity(name=\"Movie\")"
   ]
  },
  {
   "cell_type": "code",
   "execution_count": null,
   "metadata": {},
   "outputs": [],
   "source": [
    "\n",
    "# Get list of aspects. ('Cinematography', 'Direction', 'Story', 'Characters', 'Production Design', 'Unique Concept', 'Emotions')\n",
    "attributes = entity.get_attributes()\n",
    "\n",
    "rating = entity.rate(reviews=some_movie_reviews)\n",
    "\n",
    "print(rating)"
   ]
  }
 ],
 "metadata": {
  "language_info": {
   "name": "python"
  }
 },
 "nbformat": 4,
 "nbformat_minor": 2
}
