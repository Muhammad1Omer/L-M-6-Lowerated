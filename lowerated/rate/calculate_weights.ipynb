{
 "cells": [
  {
   "cell_type": "code",
   "execution_count": 5,
   "metadata": {},
   "outputs": [
    {
     "name": "stdout",
     "output_type": "stream",
     "text": [
      "Calculated Weights: {'Cinematography': 0.14704225352112676, 'Direction': 0.1447887323943662, 'Story': 0.1563380281690141, 'Characters (Acting)': 0.1447887323943662, 'Production Design (Set Design)': 0.12929577464788733, 'Unique Concept': 0.13464788732394367, 'Emotions': 0.14309859154929577}\n"
     ]
    }
   ],
   "source": [
    "import pandas as pd\n",
    "import numpy as np\n",
    "\n",
    "# Read the CSV file\n",
    "file_path = 'What Matters More in a Movie_ (Responses) - Form Responses 1.csv'\n",
    "df = pd.read_csv(file_path)\n",
    "\n",
    "# Define the aspects and the ranking columns\n",
    "aspects = [\"Cinematography\", \"Direction\", \"Story\", \"Characters (Acting)\", \"Production Design (Set Design)\", \"Unique Concept\", \"Emotions\"]\n",
    "ranking_columns = [\n",
    "    \"Please rank the following aspects of a movie in order of importance to you.\\n1 (most important) to 7 (least important) [Cinematography]\",\n",
    "    \"Please rank the following aspects of a movie in order of importance to you.\\n1 (most important) to 7 (least important) [Direction]\",\n",
    "    \"Please rank the following aspects of a movie in order of importance to you.\\n1 (most important) to 7 (least important) [Story]\",\n",
    "    \"Please rank the following aspects of a movie in order of importance to you.\\n1 (most important) to 7 (least important) [Characters (Acting)]\",\n",
    "    \"Please rank the following aspects of a movie in order of importance to you.\\n1 (most important) to 7 (least important) [Production Design (Set Design)]\",\n",
    "    \"Please rank the following aspects of a movie in order of importance to you.\\n1 (most important) to 7 (least important) [Unique Concept]\",\n",
    "    \"Please rank the following aspects of a movie in order of importance to you.\\n1 (most important) to 7 (least important) [Emotions]\"\n",
    "]\n",
    "\n",
    "# Initialize a dictionary to hold counts of ranks for each aspect\n",
    "rank_counts = {aspect: [0]*7 for aspect in aspects}\n",
    "\n",
    "# Populate the rank counts\n",
    "for col in ranking_columns:\n",
    "    aspect_name = col.split('[')[-1][:-1]  # Extract aspect name from the column\n",
    "    for rank in range(1, 8):\n",
    "        rank_counts[aspect_name][rank-1] += (df[col] == rank).sum()\n",
    "\n",
    "# Define the inverted weight for each rank (1 is most important, 7 is least important)\n",
    "rank_weights = [7, 6, 5, 4, 3, 2, 1]\n",
    "\n",
    "# Calculate weighted sum for each aspect\n",
    "weighted_sums = {aspect: sum(count * weight for count, weight in zip(rank_counts[aspect], rank_weights)) for aspect in aspects}\n",
    "\n",
    "# Normalize the weights so they sum to 1\n",
    "total_weight = sum(weighted_sums.values())\n",
    "normalized_weights = {aspect: weight / total_weight for aspect, weight in weighted_sums.items()}\n",
    "\n",
    "# Print the calculated weights\n",
    "print(\"Calculated Weights:\", normalized_weights)\n",
    "\n",
    "# Example output:\n",
    "# Calculated Weights: {'Cinematography': 0.15, 'Direction': 0.14, 'Story': 0.17, 'Characters': 0.14, 'Production Design': 0.12, 'Unique Concept': 0.13, 'Emotions': 0.15}\n",
    "\n"
   ]
  },
  {
   "cell_type": "code",
   "execution_count": null,
   "metadata": {},
   "outputs": [],
   "source": []
  }
 ],
 "metadata": {
  "kernelspec": {
   "display_name": "lowerated",
   "language": "python",
   "name": "python3"
  },
  "language_info": {
   "codemirror_mode": {
    "name": "ipython",
    "version": 3
   },
   "file_extension": ".py",
   "mimetype": "text/x-python",
   "name": "python",
   "nbconvert_exporter": "python",
   "pygments_lexer": "ipython3",
   "version": "3.10.14"
  }
 },
 "nbformat": 4,
 "nbformat_minor": 2
}
